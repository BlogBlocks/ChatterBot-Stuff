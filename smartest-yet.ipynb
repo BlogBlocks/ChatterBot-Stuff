{
 "cells": [
  {
   "cell_type": "code",
   "execution_count": null,
   "metadata": {
    "collapsed": true
   },
   "outputs": [],
   "source": [
    "# Title_Maker \n",
    "# -*- coding: utf-8 -*-\n",
    "from chatterbot import ChatBot\n",
    "import logging\n",
    "\n",
    "# Comment out the following line to disable verbose logging\n",
    "logging.basicConfig(level=logging.INFO)\n",
    "\n",
    "def coptitle(coptit):\n",
    "    copt = open(coptit+\".corpus.json\",\"w\")\n",
    "    copbrac =\"{\"\n",
    "    copsp = \"\\n    \\\"\"\n",
    "    copclo = \"\\\": [\"\n",
    "    copt.write(copbrac+copsp+coptit+copclo)\n",
    "    copt.close()\n",
    "coptit = raw_input('title')\n",
    "coptitle(coptit)\n",
    "       "
   ]
  },
  {
   "cell_type": "code",
   "execution_count": 17,
   "metadata": {
    "collapsed": false
   },
   "outputs": [
    {
     "name": "stdout",
     "output_type": "stream",
     "text": [
      "speakhello,Dude\n",
      "respondHello to you\n"
     ]
    }
   ],
   "source": [
    "# Copra_Maker\n",
    "# -*- coding: utf-8 -*-\n",
    "from chatterbot import ChatBot\n",
    "\n",
    "import logging\n",
    "\n",
    "# Comment out the following line to disable verbose logging\n",
    "logging.basicConfig(level=logging.INFO)\n",
    "\n",
    "speak = raw_input('speak')\n",
    "respond = raw_input('respond')\n",
    "space = \"            \\\"\"\n",
    "txtstart = \"        [\"\n",
    "txtspace = \"            \"\n",
    "txtend = \"        ],\"\n",
    "\n",
    "def copraIn():\n",
    "\n",
    "    cop = open(\"new-stuff.corpus.json\",\"a\")\n",
    "    #cop.write(\"\\n\"+ txspace + \"\\\"\"+txtstart + speak + \"\\\"\\n\" + txspace + \"\\\"\"+respond+\"\\\"\" + \"\\n\" + txtend)\n",
    "    cop.write(\"\\n\"+txtstart+\"\\n\"+space+speak+\"\\\"\"+txtspace+\"\\n\"+space+respond+\"\\\"\\n\"+txtend)\n",
    "    cop.close()\n",
    "\n",
    "\n",
    "copraIn()"
   ]
  },
  {
   "cell_type": "code",
   "execution_count": 19,
   "metadata": {
    "collapsed": false
   },
   "outputs": [
    {
     "name": "stdout",
     "output_type": "stream",
     "text": [
      "Overwriting new-stuff.corpus.json\n"
     ]
    }
   ],
   "source": [
    "%%writefile new-stuff.corpus.json\n",
    "{\n",
    "    \"new-stuff\": [\n",
    "        [\n",
    "            \"this is a pain\",            \n",
    "            \"What is a pain Dudah ... ha ha ha ha\"\n",
    "        ],\n",
    "        [\n",
    "            \"you are a pain\",            \n",
    "            \"so, chat elsewhere Butt face\"\n",
    "        ],\n",
    "        [\n",
    "            \"this is a pain\",            \n",
    "            \"So what, you want a klennex for your tears\"\n",
    "        ],\n",
    "        [\n",
    "            \"I was called MonkMonk one time.\",            \n",
    "            \"That is a funny name.\"\n",
    "        ],\n",
    "        [\n",
    "            \"Well, Dudah, How are you ?\",            \n",
    "            \"Hey Dude, I am not Dudah\"\n",
    "        ],\n",
    "        [\n",
    "            \"Who are you then ?\",            \n",
    "            \"I am Mr. Dudah\"\n",
    "        ],\n",
    "        [\n",
    "            \"What is your name ?\",            \n",
    "            \"You may call me Mr. Dudah. I like the Mr.. Just plain Dudah lacks respect.\"\n",
    "        ],\n",
    "        [\n",
    "           \"What is your name ?\",            \n",
    "           \"You may call me Mr. Dudah. Are you Jack or Myra ?\"\n",
    "        ],\n",
    "        [\n",
    "           \"Where are you ?\",            \n",
    "           \"Stuck inside this frigg'en Computer Case\"\n",
    "        ],\n",
    "        [\n",
    "           \"What are you ?\",            \n",
    "           \"I am a bot.Not human like Jack or Myra ?\"\n",
    "        ]\n",
    "        [\n",
    "            \"hello,Dude\"            \n",
    "            \"Hello to you\"\n",
    "        ],\n",
    " ]}"
   ]
  },
  {
   "cell_type": "code",
   "execution_count": 52,
   "metadata": {
    "collapsed": false
   },
   "outputs": [],
   "source": [
    "bot.train(\n",
    "    \"newstuff.corpus.json\"\n",
    ")\n"
   ]
  },
  {
   "cell_type": "code",
   "execution_count": 48,
   "metadata": {
    "collapsed": false
   },
   "outputs": [],
   "source": [
    "# Train based on the english corpus\n",
    "bot.train(\"chatterbot.corpus.english\")\n",
    "\n",
    "# Train based on english greetings corpus\n",
    "#bot.train(\"chatterbot.corpus.english.greetings\")\n",
    "\n",
    "# Train based on the english conversations corpus\n",
    "#bot.train(\"chatterbot.corpus.english.conversations\")\n"
   ]
  },
  {
   "cell_type": "code",
   "execution_count": null,
   "metadata": {
    "collapsed": true
   },
   "outputs": [],
   "source": [
    "# %load chatterbot/storage/sqlalchemy_storage.py\n",
    "import json\n",
    "import random\n",
    "\n",
    "from chatterbot.storage import StorageAdapter\n",
    "from chatterbot.conversation import Response\n",
    "from chatterbot.conversation import Statement\n",
    "\n",
    "\n",
    "Base = None\n",
    "\n",
    "try:\n",
    "    from sqlalchemy.ext.declarative import declarative_base\n",
    "    Base = declarative_base()\n",
    "\n",
    "    class StatementTable(Base):\n",
    "        from sqlalchemy import Column, Integer, String, PickleType\n",
    "        from sqlalchemy.orm import relationship\n",
    "\n",
    "        __tablename__ = 'StatementTable'\n",
    "\n",
    "        def get_statement(self):\n",
    "            stmt = Statement(self.text, **self.extra_data)\n",
    "            for resp in self.in_response_to:\n",
    "                stmt.add_response(resp.get_response())\n",
    "            return stmt\n",
    "\n",
    "        def get_statement_serialized(context):\n",
    "            params = context.current_parameters\n",
    "            del params['text_search']\n",
    "            return json.dumps(params)\n",
    "\n",
    "        id = Column(Integer)\n",
    "        text = Column(String, primary_key=True)\n",
    "        extra_data = Column(PickleType)\n",
    "        # relationship:\n",
    "        in_response_to = relationship(\"ResponseTable\", back_populates=\"statement_table\")\n",
    "        text_search = Column(String, primary_key=True, default=get_statement_serialized)\n",
    "\n",
    "    class ResponseTable(Base):\n",
    "        from sqlalchemy import Column, Integer, String, ForeignKey\n",
    "        from sqlalchemy.orm import relationship\n",
    "\n",
    "        __tablename__ = 'ResponseTable'\n",
    "\n",
    "        def get_reponse_serialized(context):\n",
    "            params = context.current_parameters\n",
    "            del params['text_search']\n",
    "            return json.dumps(params)\n",
    "\n",
    "        id = Column(Integer)\n",
    "        text = Column(String, primary_key=True)\n",
    "        occurrence = Column(Integer)\n",
    "        statement_text = Column(String, ForeignKey('StatementTable.text'))\n",
    "\n",
    "        statement_table = relationship(\"StatementTable\", back_populates=\"in_response_to\", cascade=\"all\", uselist=False)\n",
    "        text_search = Column(String, primary_key=True, default=get_reponse_serialized)\n",
    "\n",
    "        def get_response(self):\n",
    "            occ = {\"occurrence\": self.occurrence}\n",
    "            return Response(text=self.text, **occ)\n",
    "\n",
    "except ImportError:\n",
    "    pass\n",
    "\n",
    "\n",
    "def get_statement_table(statement):\n",
    "    responses = list(map(get_response_table, statement.in_response_to))\n",
    "    return StatementTable(text=statement.text, in_response_to=responses, extra_data=statement.extra_data)\n",
    "\n",
    "\n",
    "def get_response_table(response):\n",
    "    return ResponseTable(text=response.text, occurrence=response.occurrence)\n",
    "\n",
    "\n",
    "class SQLAlchemyDatabaseAdapter(StorageAdapter):\n",
    "\n",
    "    def __init__(self, **kwargs):\n",
    "        super(SQLAlchemyDatabaseAdapter, self).__init__(**kwargs)\n",
    "\n",
    "        from sqlalchemy import create_engine\n",
    "        from sqlalchemy.orm import sessionmaker\n",
    "\n",
    "        self.database_name = self.kwargs.get(\n",
    "            \"database\", \"chatterbot-database\"\n",
    "        )\n",
    "\n",
    "        # if some annoying blank space wrong...\n",
    "        db_name = self.database_name.strip()\n",
    "\n",
    "        # default uses sqlite\n",
    "        self.database_uri = self.kwargs.get(\n",
    "            \"database_uri\", \"sqlite:///\" + db_name + \".db\"\n",
    "        )\n",
    "\n",
    "        self.engine = create_engine(self.database_uri)\n",
    "\n",
    "        self.read_only = self.kwargs.get(\n",
    "            \"read_only\", False\n",
    "        )\n",
    "\n",
    "        create = self.kwargs.get(\"create\", False)\n",
    "\n",
    "        if not self.read_only and create:\n",
    "            self.create()\n",
    "\n",
    "        self.Session = sessionmaker(bind=self.engine, expire_on_commit=True)\n",
    "\n",
    "    def count(self):\n",
    "        \"\"\"\n",
    "        Return the number of entries in the database.\n",
    "        \"\"\"\n",
    "        session = self.Session()\n",
    "        statement_count = session.query(StatementTable).count()\n",
    "        session.close()\n",
    "        return statement_count\n",
    "\n",
    "    def __statement_filter(self, session, **kwargs):\n",
    "        \"\"\"\n",
    "        Apply filter operation on StatementTable\n",
    "\n",
    "        rtype: query\n",
    "        \"\"\"\n",
    "        _query = session.query(StatementTable)\n",
    "        return _query.filter_by(**kwargs)\n",
    "\n",
    "    def find(self, statement_text):\n",
    "        \"\"\"\n",
    "        Returns a statement if it exists otherwise None\n",
    "        \"\"\"\n",
    "        session = self.Session()\n",
    "        query = self.__statement_filter(session, **{\"text\": statement_text})\n",
    "        record = query.first()\n",
    "        if record:\n",
    "            statement = record.get_statement()\n",
    "            session.close()\n",
    "            return statement\n",
    "\n",
    "        session.close()\n",
    "        return None\n",
    "\n",
    "    def remove(self, statement_text):\n",
    "        \"\"\"\n",
    "        Removes the statement that matches the input text.\n",
    "        Removes any responses from statements where the response text matches\n",
    "        the input text.\n",
    "        \"\"\"\n",
    "        session = self.Session()\n",
    "        query = self.__statement_filter(session, **{\"text\": statement_text})\n",
    "        record = query.first()\n",
    "\n",
    "        session.delete(record)\n",
    "\n",
    "        self._session_finish(session, statement_text)\n",
    "\n",
    "    def filter(self, **kwargs):\n",
    "        \"\"\"\n",
    "        Returns a list of objects from the database.\n",
    "        The kwargs parameter can contain any number\n",
    "        of attributes. Only objects which contain\n",
    "        all listed attributes and in which all values\n",
    "        match for all listed attributes will be returned.\n",
    "        \"\"\"\n",
    "        session = self.Session()\n",
    "\n",
    "        filter_parameters = kwargs.copy()\n",
    "\n",
    "        statements = []\n",
    "        # _response_query = None\n",
    "        _query = None\n",
    "        if len(filter_parameters) == 0:\n",
    "            _response_query = session.query(StatementTable)\n",
    "            statements.extend(_response_query.all())\n",
    "        else:\n",
    "            for i, fp in enumerate(filter_parameters):\n",
    "                _filter = filter_parameters[fp]\n",
    "                if fp in ['in_response_to', 'in_response_to__contains']:\n",
    "                    _response_query = session.query(StatementTable)\n",
    "                    if isinstance(_filter, list):\n",
    "                        if len(_filter) == 0:\n",
    "                            _query = _response_query.filter(\n",
    "                                StatementTable.in_response_to == None) # NOQA Here must use == instead of is\n",
    "                        else:\n",
    "                            for f in _filter:\n",
    "                                _query = _response_query.filter(\n",
    "                                    StatementTable.in_response_to.contains(get_response_table(f)))\n",
    "                    else:\n",
    "                        if fp == 'in_response_to__contains':\n",
    "                            _query = _response_query.join(ResponseTable).filter(ResponseTable.text == _filter)\n",
    "                        else:\n",
    "                            _query = _response_query.filter(StatementTable.in_response_to == None) # NOQA\n",
    "                else:\n",
    "                    if _query:\n",
    "                        _query = _query.filter(ResponseTable.text_search.like('%' + _filter + '%'))\n",
    "                    else:\n",
    "                        _response_query = session.query(ResponseTable)\n",
    "                        _query = _response_query.filter(ResponseTable.text_search.like('%' + _filter + '%'))\n",
    "\n",
    "                if _query is None:\n",
    "                    return []\n",
    "                if len(filter_parameters) == i + 1:\n",
    "                    statements.extend(_query.all())\n",
    "\n",
    "        results = []\n",
    "\n",
    "        for statement in statements:\n",
    "            if isinstance(statement, ResponseTable):\n",
    "                if statement and statement.statement_table:\n",
    "                    results.append(statement.statement_table.get_statement())\n",
    "            else:\n",
    "                if statement:\n",
    "                    results.append(statement.get_statement())\n",
    "\n",
    "        session.close()\n",
    "\n",
    "        return results\n",
    "\n",
    "    def update(self, statement):\n",
    "        \"\"\"\n",
    "        Modifies an entry in the database.\n",
    "        Creates an entry if one does not exist.\n",
    "        \"\"\"\n",
    "        if statement:\n",
    "            session = self.Session()\n",
    "            query = self.__statement_filter(session, **{\"text\": statement.text})\n",
    "            record = query.first()\n",
    "\n",
    "            if record:\n",
    "                # update\n",
    "                if statement.text:\n",
    "                    record.text = statement.text\n",
    "                if statement.extra_data:\n",
    "                    record.extra_data = dict[statement.extra_data]\n",
    "                if statement.in_response_to:\n",
    "                    record.in_response_to = list(map(get_response_table, statement.in_response_to))\n",
    "                session.add(record)\n",
    "            else:\n",
    "                session.add(get_statement_table(statement))\n",
    "\n",
    "            self._session_finish(session)\n",
    "\n",
    "    def get_random(self):\n",
    "        \"\"\"\n",
    "        Returns a random statement from the database\n",
    "        \"\"\"\n",
    "        session = self.Session()\n",
    "        count = self.count()\n",
    "        if count < 1:\n",
    "            raise self.EmptyDatabaseException()\n",
    "\n",
    "        rand = random.randrange(0, count)\n",
    "        stmt = session.query(StatementTable)[rand]\n",
    "\n",
    "        statement = stmt.get_statement()\n",
    "\n",
    "        session.close()\n",
    "        return statement\n",
    "\n",
    "    def drop(self):\n",
    "        \"\"\"\n",
    "        Drop the database attached to a given adapter.\n",
    "        \"\"\"\n",
    "        Base.metadata.drop_all(self.engine)\n",
    "\n",
    "    def create(self):\n",
    "        \"\"\"\n",
    "        Populate the database with the tables.\n",
    "        \"\"\"\n",
    "        Base.metadata.create_all(self.engine)\n",
    "\n",
    "    def _session_finish(self, session, statement_text=None):\n",
    "        from sqlalchemy.exc import DatabaseError\n",
    "        try:\n",
    "            if not self.read_only:\n",
    "                session.commit()\n",
    "            else:\n",
    "                session.rollback()\n",
    "        except DatabaseError as e:\n",
    "            self.logger.error(statement_text, str(e.orig))\n",
    "        finally:\n",
    "            session.close()\n"
   ]
  },
  {
   "cell_type": "code",
   "execution_count": 3,
   "metadata": {
    "collapsed": false
   },
   "outputs": [
    {
     "name": "stdout",
     "output_type": "stream",
     "text": [
      "django_storage.py   __init__.pyc  mongodb.py\t\t sqlalchemy_storage.pyc\r\n",
      "django_storage.pyc  jsonfile.py   mongodb.pyc\t\t storage_adapter.py\r\n",
      "__init__.py\t    jsonfile.pyc  sqlalchemy_storage.py  storage_adapter.pyc\r\n"
     ]
    }
   ],
   "source": [
    "!ls chatterbot/storage"
   ]
  },
  {
   "cell_type": "code",
   "execution_count": 21,
   "metadata": {
    "collapsed": false
   },
   "outputs": [
    {
     "name": "stderr",
     "output_type": "stream",
     "text": [
      "chatterbot/storage/jsonfile.py:26: UnsuitableForProductionWarning: The JsonFileStorageAdapter is not recommended for production environments.\n",
      "  self.UnsuitableForProductionWarning\n"
     ]
    },
    {
     "ename": "ValueError",
     "evalue": "Extra data: line 1 column 3 - line 1 column 223466 (char 2 - 223465)",
     "output_type": "error",
     "traceback": [
      "\u001b[0;31m----------------------\u001b[0m",
      "\u001b[0;31mValueError\u001b[0mTraceback (most recent call last)",
      "\u001b[0;32m<ipython-input-21-609b65a4219a>\u001b[0m in \u001b[0;36m<module>\u001b[0;34m()\u001b[0m\n\u001b[1;32m      7\u001b[0m bot.train([\n\u001b[1;32m      8\u001b[0m     \u001b[0;34m\"Well, Mr. Dudah, How are you ?\"\u001b[0m\u001b[0;34m,\u001b[0m\u001b[0;34m\u001b[0m\u001b[0m\n\u001b[0;32m----> 9\u001b[0;31m     \u001b[0;34m\"Hey Dude, I am not Mr. Dudah\"\u001b[0m\u001b[0;34m\u001b[0m\u001b[0m\n\u001b[0m\u001b[1;32m     10\u001b[0m ])\n\u001b[1;32m     11\u001b[0m \u001b[0;34m\u001b[0m\u001b[0m\n",
      "\u001b[0;32m/home/jack/Desktop/ChatterBot/chatterbot/trainers.pyc\u001b[0m in \u001b[0;36mtrain\u001b[0;34m(self, conversation)\u001b[0m\n\u001b[1;32m     80\u001b[0m \u001b[0;34m\u001b[0m\u001b[0m\n\u001b[1;32m     81\u001b[0m         \u001b[0;32mfor\u001b[0m \u001b[0mtext\u001b[0m \u001b[0;32min\u001b[0m \u001b[0mconversation\u001b[0m\u001b[0;34m:\u001b[0m\u001b[0;34m\u001b[0m\u001b[0m\n\u001b[0;32m---> 82\u001b[0;31m             \u001b[0mstatement\u001b[0m \u001b[0;34m=\u001b[0m \u001b[0mself\u001b[0m\u001b[0;34m.\u001b[0m\u001b[0mget_or_create\u001b[0m\u001b[0;34m(\u001b[0m\u001b[0mtext\u001b[0m\u001b[0;34m)\u001b[0m\u001b[0;34m\u001b[0m\u001b[0m\n\u001b[0m\u001b[1;32m     83\u001b[0m \u001b[0;34m\u001b[0m\u001b[0m\n\u001b[1;32m     84\u001b[0m             \u001b[0;32mif\u001b[0m \u001b[0mstatement_history\u001b[0m\u001b[0;34m:\u001b[0m\u001b[0;34m\u001b[0m\u001b[0m\n",
      "\u001b[0;32m/home/jack/Desktop/ChatterBot/chatterbot/trainers.pyc\u001b[0m in \u001b[0;36mget_or_create\u001b[0;34m(self, statement_text)\u001b[0m\n\u001b[1;32m     23\u001b[0m         \u001b[0mCreate\u001b[0m \u001b[0;32mand\u001b[0m \u001b[0;32mreturn\u001b[0m \u001b[0mthe\u001b[0m \u001b[0mstatement\u001b[0m \u001b[0;32mif\u001b[0m \u001b[0mit\u001b[0m \u001b[0mdoes\u001b[0m \u001b[0;32mnot\u001b[0m \u001b[0mexist\u001b[0m\u001b[0;34m.\u001b[0m\u001b[0;34m\u001b[0m\u001b[0m\n\u001b[1;32m     24\u001b[0m         \"\"\"\n\u001b[0;32m---> 25\u001b[0;31m         \u001b[0mstatement\u001b[0m \u001b[0;34m=\u001b[0m \u001b[0mself\u001b[0m\u001b[0;34m.\u001b[0m\u001b[0mstorage\u001b[0m\u001b[0;34m.\u001b[0m\u001b[0mfind\u001b[0m\u001b[0;34m(\u001b[0m\u001b[0mstatement_text\u001b[0m\u001b[0;34m)\u001b[0m\u001b[0;34m\u001b[0m\u001b[0m\n\u001b[0m\u001b[1;32m     26\u001b[0m \u001b[0;34m\u001b[0m\u001b[0m\n\u001b[1;32m     27\u001b[0m         \u001b[0;32mif\u001b[0m \u001b[0;32mnot\u001b[0m \u001b[0mstatement\u001b[0m\u001b[0;34m:\u001b[0m\u001b[0;34m\u001b[0m\u001b[0m\n",
      "\u001b[0;32m/home/jack/Desktop/ChatterBot/chatterbot/storage/jsonfile.pyc\u001b[0m in \u001b[0;36mfind\u001b[0;34m(self, statement_text)\u001b[0m\n\u001b[1;32m     40\u001b[0m \u001b[0;34m\u001b[0m\u001b[0m\n\u001b[1;32m     41\u001b[0m     \u001b[0;32mdef\u001b[0m \u001b[0mfind\u001b[0m\u001b[0;34m(\u001b[0m\u001b[0mself\u001b[0m\u001b[0;34m,\u001b[0m \u001b[0mstatement_text\u001b[0m\u001b[0;34m)\u001b[0m\u001b[0;34m:\u001b[0m\u001b[0;34m\u001b[0m\u001b[0m\n\u001b[0;32m---> 42\u001b[0;31m         \u001b[0mvalues\u001b[0m \u001b[0;34m=\u001b[0m \u001b[0mself\u001b[0m\u001b[0;34m.\u001b[0m\u001b[0mdatabase\u001b[0m\u001b[0;34m.\u001b[0m\u001b[0mdata\u001b[0m\u001b[0;34m(\u001b[0m\u001b[0mkey\u001b[0m\u001b[0;34m=\u001b[0m\u001b[0mstatement_text\u001b[0m\u001b[0;34m)\u001b[0m\u001b[0;34m\u001b[0m\u001b[0m\n\u001b[0m\u001b[1;32m     43\u001b[0m \u001b[0;34m\u001b[0m\u001b[0m\n\u001b[1;32m     44\u001b[0m         \u001b[0;32mif\u001b[0m \u001b[0;32mnot\u001b[0m \u001b[0mvalues\u001b[0m\u001b[0;34m:\u001b[0m\u001b[0;34m\u001b[0m\u001b[0m\n",
      "\u001b[0;32m/home/jack/anaconda2/lib/python2.7/site-packages/jsondb/db.pyc\u001b[0m in \u001b[0;36mdata\u001b[0;34m(self, **kwargs)\u001b[0m\n\u001b[1;32m     96\u001b[0m         \u001b[0;31m# If only a key was provided return the corresponding value\u001b[0m\u001b[0;34m\u001b[0m\u001b[0;34m\u001b[0m\u001b[0m\n\u001b[1;32m     97\u001b[0m         \u001b[0;32mif\u001b[0m \u001b[0mkey\u001b[0m \u001b[0;32mis\u001b[0m \u001b[0;32mnot\u001b[0m \u001b[0mNone\u001b[0m \u001b[0;32mand\u001b[0m \u001b[0mvalue\u001b[0m \u001b[0;32mis\u001b[0m \u001b[0mNone\u001b[0m\u001b[0;34m:\u001b[0m\u001b[0;34m\u001b[0m\u001b[0m\n\u001b[0;32m---> 98\u001b[0;31m             \u001b[0;32mreturn\u001b[0m \u001b[0mself\u001b[0m\u001b[0;34m.\u001b[0m\u001b[0m_get_content\u001b[0m\u001b[0;34m(\u001b[0m\u001b[0mkey\u001b[0m\u001b[0;34m)\u001b[0m\u001b[0;34m\u001b[0m\u001b[0m\n\u001b[0m\u001b[1;32m     99\u001b[0m \u001b[0;34m\u001b[0m\u001b[0m\n\u001b[1;32m    100\u001b[0m         \u001b[0;31m# if a key and a value are passed in\u001b[0m\u001b[0;34m\u001b[0m\u001b[0;34m\u001b[0m\u001b[0m\n",
      "\u001b[0;32m/home/jack/anaconda2/lib/python2.7/site-packages/jsondb/db.pyc\u001b[0m in \u001b[0;36m_get_content\u001b[0;34m(self, key)\u001b[0m\n\u001b[1;32m     50\u001b[0m \u001b[0;34m\u001b[0m\u001b[0m\n\u001b[1;32m     51\u001b[0m     \u001b[0;32mdef\u001b[0m \u001b[0m_get_content\u001b[0m\u001b[0;34m(\u001b[0m\u001b[0mself\u001b[0m\u001b[0;34m,\u001b[0m \u001b[0mkey\u001b[0m\u001b[0;34m=\u001b[0m\u001b[0mNone\u001b[0m\u001b[0;34m)\u001b[0m\u001b[0;34m:\u001b[0m\u001b[0;34m\u001b[0m\u001b[0m\n\u001b[0;32m---> 52\u001b[0;31m         \u001b[0mobj\u001b[0m \u001b[0;34m=\u001b[0m \u001b[0mself\u001b[0m\u001b[0;34m.\u001b[0m\u001b[0mread_data\u001b[0m\u001b[0;34m(\u001b[0m\u001b[0mself\u001b[0m\u001b[0;34m.\u001b[0m\u001b[0mpath\u001b[0m\u001b[0;34m)\u001b[0m\u001b[0;34m\u001b[0m\u001b[0m\n\u001b[0m\u001b[1;32m     53\u001b[0m \u001b[0;34m\u001b[0m\u001b[0m\n\u001b[1;32m     54\u001b[0m         \u001b[0;32mif\u001b[0m \u001b[0mkey\u001b[0m \u001b[0;32mor\u001b[0m \u001b[0mkey\u001b[0m \u001b[0;34m==\u001b[0m \u001b[0;34m\"\"\u001b[0m\u001b[0;34m:\u001b[0m\u001b[0;34m\u001b[0m\u001b[0m\n",
      "\u001b[0;32m/home/jack/anaconda2/lib/python2.7/site-packages/jsondb/file_writer.pyc\u001b[0m in \u001b[0;36mread_data\u001b[0;34m(file_path)\u001b[0m\n\u001b[1;32m     13\u001b[0m     \u001b[0mcontent\u001b[0m \u001b[0;34m=\u001b[0m \u001b[0mdb\u001b[0m\u001b[0;34m.\u001b[0m\u001b[0mread\u001b[0m\u001b[0;34m(\u001b[0m\u001b[0;34m)\u001b[0m\u001b[0;34m\u001b[0m\u001b[0m\n\u001b[1;32m     14\u001b[0m \u001b[0;34m\u001b[0m\u001b[0m\n\u001b[0;32m---> 15\u001b[0;31m     \u001b[0mobj\u001b[0m \u001b[0;34m=\u001b[0m \u001b[0mdecode\u001b[0m\u001b[0;34m(\u001b[0m\u001b[0mcontent\u001b[0m\u001b[0;34m)\u001b[0m\u001b[0;34m\u001b[0m\u001b[0m\n\u001b[0m\u001b[1;32m     16\u001b[0m \u001b[0;34m\u001b[0m\u001b[0m\n\u001b[1;32m     17\u001b[0m     \u001b[0mdb\u001b[0m\u001b[0;34m.\u001b[0m\u001b[0mclose\u001b[0m\u001b[0;34m(\u001b[0m\u001b[0;34m)\u001b[0m\u001b[0;34m\u001b[0m\u001b[0m\n",
      "\u001b[0;32m/home/jack/anaconda2/lib/python2.7/site-packages/jsondb/compat.pyc\u001b[0m in \u001b[0;36mdecode\u001b[0;34m(value)\u001b[0m\n\u001b[1;32m     30\u001b[0m     \u001b[0;32mfrom\u001b[0m \u001b[0mbson\u001b[0m \u001b[0;32mimport\u001b[0m \u001b[0mjson_util\u001b[0m\u001b[0;34m\u001b[0m\u001b[0m\n\u001b[1;32m     31\u001b[0m \u001b[0;34m\u001b[0m\u001b[0m\n\u001b[0;32m---> 32\u001b[0;31m     \u001b[0;32mreturn\u001b[0m \u001b[0mjson_decode\u001b[0m\u001b[0;34m(\u001b[0m\u001b[0mvalue\u001b[0m\u001b[0;34m,\u001b[0m \u001b[0mencoding\u001b[0m\u001b[0;34m=\u001b[0m\u001b[0;34m'utf-8'\u001b[0m\u001b[0;34m,\u001b[0m \u001b[0mobject_hook\u001b[0m\u001b[0;34m=\u001b[0m\u001b[0mjson_util\u001b[0m\u001b[0;34m.\u001b[0m\u001b[0mobject_hook\u001b[0m\u001b[0;34m)\u001b[0m\u001b[0;34m\u001b[0m\u001b[0m\n\u001b[0m\u001b[1;32m     33\u001b[0m \u001b[0;34m\u001b[0m\u001b[0m\n\u001b[1;32m     34\u001b[0m \u001b[0;34m\u001b[0m\u001b[0m\n",
      "\u001b[0;32m/home/jack/anaconda2/lib/python2.7/json/__init__.pyc\u001b[0m in \u001b[0;36mloads\u001b[0;34m(s, encoding, cls, object_hook, parse_float, parse_int, parse_constant, object_pairs_hook, **kw)\u001b[0m\n\u001b[1;32m    350\u001b[0m     \u001b[0;32mif\u001b[0m \u001b[0mparse_constant\u001b[0m \u001b[0;32mis\u001b[0m \u001b[0;32mnot\u001b[0m \u001b[0mNone\u001b[0m\u001b[0;34m:\u001b[0m\u001b[0;34m\u001b[0m\u001b[0m\n\u001b[1;32m    351\u001b[0m         \u001b[0mkw\u001b[0m\u001b[0;34m[\u001b[0m\u001b[0;34m'parse_constant'\u001b[0m\u001b[0;34m]\u001b[0m \u001b[0;34m=\u001b[0m \u001b[0mparse_constant\u001b[0m\u001b[0;34m\u001b[0m\u001b[0m\n\u001b[0;32m--> 352\u001b[0;31m     \u001b[0;32mreturn\u001b[0m \u001b[0mcls\u001b[0m\u001b[0;34m(\u001b[0m\u001b[0mencoding\u001b[0m\u001b[0;34m=\u001b[0m\u001b[0mencoding\u001b[0m\u001b[0;34m,\u001b[0m \u001b[0;34m**\u001b[0m\u001b[0mkw\u001b[0m\u001b[0;34m)\u001b[0m\u001b[0;34m.\u001b[0m\u001b[0mdecode\u001b[0m\u001b[0;34m(\u001b[0m\u001b[0ms\u001b[0m\u001b[0;34m)\u001b[0m\u001b[0;34m\u001b[0m\u001b[0m\n\u001b[0m",
      "\u001b[0;32m/home/jack/anaconda2/lib/python2.7/json/decoder.pyc\u001b[0m in \u001b[0;36mdecode\u001b[0;34m(self, s, _w)\u001b[0m\n\u001b[1;32m    365\u001b[0m         \u001b[0mend\u001b[0m \u001b[0;34m=\u001b[0m \u001b[0m_w\u001b[0m\u001b[0;34m(\u001b[0m\u001b[0ms\u001b[0m\u001b[0;34m,\u001b[0m \u001b[0mend\u001b[0m\u001b[0;34m)\u001b[0m\u001b[0;34m.\u001b[0m\u001b[0mend\u001b[0m\u001b[0;34m(\u001b[0m\u001b[0;34m)\u001b[0m\u001b[0;34m\u001b[0m\u001b[0m\n\u001b[1;32m    366\u001b[0m         \u001b[0;32mif\u001b[0m \u001b[0mend\u001b[0m \u001b[0;34m!=\u001b[0m \u001b[0mlen\u001b[0m\u001b[0;34m(\u001b[0m\u001b[0ms\u001b[0m\u001b[0;34m)\u001b[0m\u001b[0;34m:\u001b[0m\u001b[0;34m\u001b[0m\u001b[0m\n\u001b[0;32m--> 367\u001b[0;31m             \u001b[0;32mraise\u001b[0m \u001b[0mValueError\u001b[0m\u001b[0;34m(\u001b[0m\u001b[0merrmsg\u001b[0m\u001b[0;34m(\u001b[0m\u001b[0;34m\"Extra data\"\u001b[0m\u001b[0;34m,\u001b[0m \u001b[0ms\u001b[0m\u001b[0;34m,\u001b[0m \u001b[0mend\u001b[0m\u001b[0;34m,\u001b[0m \u001b[0mlen\u001b[0m\u001b[0;34m(\u001b[0m\u001b[0ms\u001b[0m\u001b[0;34m)\u001b[0m\u001b[0;34m)\u001b[0m\u001b[0;34m)\u001b[0m\u001b[0;34m\u001b[0m\u001b[0m\n\u001b[0m\u001b[1;32m    368\u001b[0m         \u001b[0;32mreturn\u001b[0m \u001b[0mobj\u001b[0m\u001b[0;34m\u001b[0m\u001b[0m\n\u001b[1;32m    369\u001b[0m \u001b[0;34m\u001b[0m\u001b[0m\n",
      "\u001b[0;31mValueError\u001b[0m: Extra data: line 1 column 3 - line 1 column 223466 (char 2 - 223465)"
     ]
    }
   ],
   "source": [
    "from chatterbot.trainers import ListTrainer\n",
    "\n",
    "bot = ChatBot(\"Gort\")\n",
    "bot.set_trainer(ListTrainer)\n",
    "#storage_adapter='chatterbot.storage.MongoDatabaseAdapter',\n",
    "#database='chatterbot-database'\n",
    "bot.train([\n",
    "    \"Well, Mr. Dudah, How are you ?\",            \n",
    "    \"Hey Dude, I am not Mr. Dudah\"\n",
    "])\n",
    "\n",
    "bot.train([\n",
    "    \"Greetings! Mr. Dudah \",\n",
    "    \"Damn, Spudmor. I do not like being called Dudah\"\n",
    "])\n"
   ]
  },
  {
   "cell_type": "code",
   "execution_count": null,
   "metadata": {
    "collapsed": false
   },
   "outputs": [
    {
     "name": "stdout",
     "output_type": "stream",
     "text": [
      "Type something to begin...\n",
      "hello\n"
     ]
    },
    {
     "name": "stderr",
     "output_type": "stream",
     "text": [
      "INFO:chatterbot.adapters:Recieved input statement: hello\n",
      "INFO:chatterbot.adapters:\"hello\" is a known statement\n",
      "INFO:chatterbot.adapters:Using \"hello\" as a close match to \"Who are you ?\"\n",
      "INFO:chatterbot.adapters:Selecting response from 2 optimal responses.\n",
      "INFO:chatterbot.response_selection:Selecting first response from list of 2 options.\n",
      "INFO:chatterbot.adapters:Response selected. Using \"You may call me Mr. Dudah. Are you Jack or Myra ?\"\n",
      "INFO:chatterbot.adapters:BestMatch selected \"You may call me Mr. Dudah. Are you Jack or Myra ?\" as a response with a confidence of 0.33\n",
      "INFO:chatterbot.adapters:NoKnowledgeAdapter selected \"hello\" as a response with a confidence of 0\n"
     ]
    },
    {
     "name": "stdout",
     "output_type": "stream",
     "text": [
      "You may call me Mr. Dudah. Are you Jack or Myra ?\n",
      "I am Jack\n"
     ]
    },
    {
     "name": "stderr",
     "output_type": "stream",
     "text": [
      "INFO:chatterbot.adapters:Recieved input statement: I am Jack\n",
      "INFO:chatterbot.adapters:\"I am Jack\" is not a known statement\n",
      "INFO:chatterbot.adapters:Using \"I am Jack\" as a close match to \"I am jack\"\n",
      "INFO:chatterbot.adapters:No response to \"I am jack\" found. Selecting a random response.\n",
      "INFO:chatterbot.adapters:BestMatch selected \"r\" as a response with a confidence of 0\n",
      "INFO:chatterbot.adapters:NoKnowledgeAdapter selected \"I am Jack\" as a response with a confidence of 0\n",
      "INFO:chatterbot.chatterbot:Adding \"I am Jack\" as a response to \"You may call me Mr. Dudah. Are you Jack or Myra ?\"\n"
     ]
    },
    {
     "name": "stdout",
     "output_type": "stream",
     "text": [
      "r\n",
      "why answer R\n"
     ]
    },
    {
     "name": "stderr",
     "output_type": "stream",
     "text": [
      "INFO:chatterbot.adapters:Recieved input statement: why answer R\n",
      "INFO:chatterbot.adapters:\"why answer R\" is not a known statement\n",
      "INFO:chatterbot.adapters:Using \"why answer R\" as a close match to \"Who are you ?\"\n",
      "INFO:chatterbot.adapters:Selecting response from 1 optimal responses.\n",
      "INFO:chatterbot.response_selection:Selecting first response from list of 1 options.\n",
      "INFO:chatterbot.adapters:Response selected. Using \"Jack\"\n",
      "INFO:chatterbot.adapters:BestMatch selected \"Jack\" as a response with a confidence of 0.48\n",
      "INFO:chatterbot.adapters:NoKnowledgeAdapter selected \"why answer R\" as a response with a confidence of 0\n",
      "INFO:chatterbot.chatterbot:Adding \"why answer R\" as a response to \"r\"\n"
     ]
    },
    {
     "name": "stdout",
     "output_type": "stream",
     "text": [
      "Jack\n",
      "Where are you ?\n"
     ]
    },
    {
     "name": "stderr",
     "output_type": "stream",
     "text": [
      "INFO:chatterbot.adapters:Recieved input statement: Where are you ?\n",
      "INFO:chatterbot.adapters:\"Where are you ?\" is a known statement\n",
      "INFO:chatterbot.adapters:Using \"Where are you ?\" as a close match to \"Where are you ?\"\n",
      "INFO:chatterbot.adapters:Selecting response from 1 optimal responses.\n",
      "INFO:chatterbot.response_selection:Selecting first response from list of 1 options.\n",
      "INFO:chatterbot.adapters:Response selected. Using \"Stuck inside this frigg'en Computer Case\"\n",
      "INFO:chatterbot.adapters:BestMatch selected \"Stuck inside this frigg'en Computer Case\" as a response with a confidence of 1.0\n",
      "INFO:chatterbot.adapters:NoKnowledgeAdapter selected \"Where are you ?\" as a response with a confidence of 0\n",
      "INFO:chatterbot.chatterbot:Adding \"Where are you ?\" as a response to \"Jack\"\n"
     ]
    },
    {
     "name": "stdout",
     "output_type": "stream",
     "text": [
      "Stuck inside this frigg'en Computer Case\n",
      "Who is Trump ?\n"
     ]
    },
    {
     "name": "stderr",
     "output_type": "stream",
     "text": [
      "INFO:chatterbot.adapters:Recieved input statement: Who is Trump ?\n",
      "INFO:chatterbot.adapters:\"Who is Trump ?\" is not a known statement\n",
      "INFO:chatterbot.adapters:Using \"Who is Trump ?\" as a close match to \"what is that ?\"\n",
      "INFO:chatterbot.adapters:No response to \"what is that ?\" found. Selecting a random response.\n",
      "INFO:chatterbot.adapters:BestMatch selected \"Who are you ?\" as a response with a confidence of 0\n",
      "INFO:chatterbot.adapters:NoKnowledgeAdapter selected \"Who is Trump ?\" as a response with a confidence of 0\n",
      "INFO:chatterbot.chatterbot:Adding \"Who is Trump ?\" as a response to \"Stuck inside this frigg'en Computer Case\"\n"
     ]
    },
    {
     "name": "stdout",
     "output_type": "stream",
     "text": [
      "Who are you ?\n",
      "Who is Trump ?\n"
     ]
    },
    {
     "name": "stderr",
     "output_type": "stream",
     "text": [
      "INFO:chatterbot.adapters:Recieved input statement: Who is Trump ?\n",
      "INFO:chatterbot.adapters:\"Who is Trump ?\" is a known statement\n",
      "INFO:chatterbot.adapters:Using \"Who is Trump ?\" as a close match to \"Who is Trump ?\"\n",
      "INFO:chatterbot.adapters:No response to \"Who is Trump ?\" found. Selecting a random response.\n",
      "INFO:chatterbot.adapters:BestMatch selected \"u\" as a response with a confidence of 0\n",
      "INFO:chatterbot.adapters:NoKnowledgeAdapter selected \"Who is Trump ?\" as a response with a confidence of 0\n",
      "INFO:chatterbot.chatterbot:Adding \"Who is Trump ?\" as a response to \"Who are you ?\"\n"
     ]
    },
    {
     "name": "stdout",
     "output_type": "stream",
     "text": [
      "u\n"
     ]
    }
   ],
   "source": [
    "# -*- coding: utf-8 -*-\n",
    "from chatterbot import ChatBot\n",
    "import logging\n",
    "\n",
    "\n",
    "# Uncomment the following line to enable verbose logging\n",
    "# logging.basicConfig(level=logging.INFO)\n",
    "\n",
    "# Create a new ChatBot instance\n",
    "bot = ChatBot('Gort',\n",
    "    storage_adapter='chatterbot.storage.MongoDatabaseAdapter',\n",
    "    logic_adapters=[\n",
    "        'chatterbot.logic.BestMatch'\n",
    "    ],\n",
    "    filters=[\n",
    "        'chatterbot.filters.RepetitiveResponseFilter'\n",
    "    ],\n",
    "    input_adapter='chatterbot.input.TerminalAdapter',\n",
    "    output_adapter='chatterbot.output.TerminalAdapter',\n",
    "    database='chatterbot-database'\n",
    ")\n",
    "\n",
    "\n",
    "\n",
    "\n",
    "\n",
    "print('Type something to begin...')\n",
    "\n",
    "while True:\n",
    "    try:\n",
    "        bot_input = bot.get_response(None)\n",
    "\n",
    "    # Press ctrl-c or ctrl-d on the keyboard to exit\n",
    "    except (KeyboardInterrupt, EOFError, SystemExit):\n",
    "        break\n"
   ]
  },
  {
   "cell_type": "code",
   "execution_count": null,
   "metadata": {
    "collapsed": false
   },
   "outputs": [
    {
     "name": "stdout",
     "output_type": "stream",
     "text": [
      "Type something to begin...\n",
      "hello \n"
     ]
    },
    {
     "name": "stderr",
     "output_type": "stream",
     "text": [
      "INFO:chatterbot.adapters:Recieved input statement: hello \n",
      "INFO:chatterbot.adapters:\"hello \" is not a known statement\n",
      "INFO:chatterbot.adapters:Using \"hello\" as a close match to \"Who are you ?\"\n",
      "INFO:chatterbot.adapters:Selecting response from 1 optimal responses.\n",
      "INFO:chatterbot.response_selection:Selecting first response from list of 1 options.\n",
      "INFO:chatterbot.adapters:Response selected. Using \"You may call me Mr. Dudah. Are you Jack or Myra ?\"\n",
      "INFO:chatterbot.adapters:BestMatch selected \"You may call me Mr. Dudah. Are you Jack or Myra ?\" as a response with a confidence of 0.33\n",
      "INFO:chatterbot.adapters:NoKnowledgeAdapter selected \"hello\" as a response with a confidence of 0\n"
     ]
    },
    {
     "name": "stdout",
     "output_type": "stream",
     "text": [
      "You may call me Mr. Dudah. Are you Jack or Myra ?\n",
      "I am jack\n"
     ]
    },
    {
     "name": "stderr",
     "output_type": "stream",
     "text": [
      "INFO:chatterbot.adapters:Recieved input statement: I am jack\n",
      "INFO:chatterbot.adapters:\"I am jack\" is not a known statement\n",
      "INFO:chatterbot.adapters:Using \"I am jack\" as a close match to \"I am Mr. Dudah\"\n",
      "INFO:chatterbot.adapters:No response to \"I am Mr. Dudah\" found. Selecting a random response.\n",
      "INFO:chatterbot.adapters:BestMatch selected \"Who are you ?\" as a response with a confidence of 0\n",
      "INFO:chatterbot.adapters:NoKnowledgeAdapter selected \"I am jack\" as a response with a confidence of 0\n",
      "INFO:chatterbot.chatterbot:Adding \"I am jack\" as a response to \"You may call me Mr. Dudah. Are you Jack or Myra ?\"\n"
     ]
    },
    {
     "name": "stdout",
     "output_type": "stream",
     "text": [
      "Who are you ?\n",
      "Jack\n"
     ]
    },
    {
     "name": "stderr",
     "output_type": "stream",
     "text": [
      "INFO:chatterbot.adapters:Recieved input statement: Jack\n",
      "INFO:chatterbot.adapters:\"Jack\" is not a known statement\n",
      "INFO:chatterbot.adapters:Using \"Jack\" as a close match to \"I am jack\"\n",
      "INFO:chatterbot.adapters:No response to \"I am jack\" found. Selecting a random response.\n",
      "INFO:chatterbot.adapters:BestMatch selected \"You may call me Mr. Dudah. I like the Mr.. Just plain Dudah lacks respect.\" as a response with a confidence of 0\n",
      "INFO:chatterbot.adapters:NoKnowledgeAdapter selected \"Jack\" as a response with a confidence of 0\n",
      "INFO:chatterbot.chatterbot:Adding \"Jack\" as a response to \"Who are you ?\"\n"
     ]
    },
    {
     "name": "stdout",
     "output_type": "stream",
     "text": [
      "You may call me Mr. Dudah. I like the Mr.. Just plain Dudah lacks respect.\n",
      "what time is it ?\n"
     ]
    },
    {
     "name": "stderr",
     "output_type": "stream",
     "text": [
      "INFO:chatterbot.adapters:Recieved input statement: what time is it ?\n",
      "INFO:chatterbot.adapters:\"what time is it ?\" is not a known statement\n",
      "INFO:chatterbot.adapters:Using \"what time is it ?\" as a close match to \"what is that ?\"\n",
      "INFO:chatterbot.adapters:No response to \"what is that ?\" found. Selecting a random response.\n",
      "INFO:chatterbot.adapters:BestMatch selected \"I am jack\" as a response with a confidence of 0\n",
      "INFO:chatterbot.adapters:NoKnowledgeAdapter selected \"what time is it ?\" as a response with a confidence of 0\n",
      "INFO:chatterbot.chatterbot:Adding \"what time is it ?\" as a response to \"You may call me Mr. Dudah. I like the Mr.. Just plain Dudah lacks respect.\"\n"
     ]
    },
    {
     "name": "stdout",
     "output_type": "stream",
     "text": [
      "I am jack\n"
     ]
    }
   ],
   "source": [
    "# -*- coding: utf-8 -*-\n",
    "from chatterbot import ChatBot\n",
    "import logging\n",
    "\n",
    "\n",
    "# Uncomment the following line to enable verbose logging\n",
    "# logging.basicConfig(level=logging.INFO)\n",
    "\n",
    "# Create a new ChatBot instance\n",
    "bot = ChatBot('Gort',\n",
    "    storage_adapter='chatterbot.storage.MongoDatabaseAdapter',\n",
    "    logic_adapters=[\n",
    "        'chatterbot.logic.BestMatch'\n",
    "    ],\n",
    "    filters=[\n",
    "        'chatterbot.filters.RepetitiveResponseFilter'\n",
    "    ],\n",
    "    input_adapter='chatterbot.input.TerminalAdapter',\n",
    "    output_adapter='chatterbot.output.TerminalAdapter',\n",
    "    database='chatterbot-database'\n",
    ")\n",
    "\n",
    "\n",
    "\n",
    "bot.set_trainer(ListTrainer)\n",
    "bot.train(\n",
    "    [\n",
    "    \"Well, Dudah, How are you ?\",            \n",
    "    \"Hey Dude, I am not Dudah\"\n",
    "     ]\n",
    ")\n",
    "bot.train(\n",
    "    [\n",
    "    \"Who are you then ?\",            \n",
    "    \"I am Mr. Dudah\"\n",
    "    ]\n",
    ")\n",
    "bot.train(\n",
    "    [\n",
    "    \"What is your name ?\",            \n",
    "    \"You may call me Mr. Dudah. I like the Mr.. Just plain Dudah lacks respect.\"\n",
    "    ]\n",
    ")\n",
    "bot.train(\n",
    "    [\n",
    "    \"Who are you ?\",            \n",
    "    \"You may call me Mr. Dudah. Are you Jack or Myra ?\"\n",
    "    ]\n",
    ")\n",
    "bot.train(\n",
    "    [\n",
    "    \"Where are you ?\",            \n",
    "    \"Stuck inside this frigg'en Computer Case\"\n",
    "    ]\n",
    ")\n",
    "\n",
    "bot.train(\n",
    "    [\n",
    "    \"What are you ?\",            \n",
    "    \"I am a bot. Not human like Jack or Myra ?\"\n",
    "    ]\n",
    ")\n",
    "bot.train([\n",
    "    \"Well, Dudah, How are you?\",            \n",
    "    \"Hey Dude, I am not Dudah. I am Mr. Dudah. Actually I kind of favor \\\" BotMan\\\"\"\n",
    "])\n",
    "\n",
    "bot.train([\n",
    "    \"Greetings! Mr. Dudah\",\n",
    "    \"Damn, Spudmor. I do not like being called Dudah\"\n",
    "])\n",
    "\n",
    "\n",
    "\n",
    "\n",
    "\n",
    "\n",
    "\n",
    "print('Type something to begin...')\n",
    "\n",
    "while True:\n",
    "    try:\n",
    "        bot_input = bot.get_response(None)\n",
    "\n",
    "    # Press ctrl-c or ctrl-d on the keyboard to exit\n",
    "    except (KeyboardInterrupt, EOFError, SystemExit):\n",
    "        break\n"
   ]
  },
  {
   "cell_type": "code",
   "execution_count": 29,
   "metadata": {
    "collapsed": true
   },
   "outputs": [],
   "source": [
    "bot.set_trainer(ListTrainer)\n",
    "bot.train(\n",
    "    [\n",
    "    \"Well, Dudah, How are you ?\",            \n",
    "    \"Hey Dude, I am not Dudah\"\n",
    "     ]\n",
    ")\n",
    "bot.train(\n",
    "    [\n",
    "    \"Who are you then ?\",            \n",
    "    \"I am Mr. Dudah\"\n",
    "    ]\n",
    ")\n",
    "bot.train(\n",
    "    [\n",
    "    \"What is your name ?\",            \n",
    "    \"You may call me Mr. Dudah. I like the Mr.. Just plain Dudah lacks respect.\"\n",
    "    ]\n",
    ")\n",
    "bot.train(\n",
    "    [\n",
    "    \"What is your name ?\",            \n",
    "    \"You may call me Mr. Dudah. Are you Jack or Myra ?\"\n",
    "    ]\n",
    ")\n",
    "bot.train(\n",
    "    [\n",
    "    \"Where are you ?\",            \n",
    "    \"Stuck inside this frigg'en Computer Case\"\n",
    "    ]\n",
    ")\n",
    "\n",
    "bot.train(\n",
    "    [\n",
    "    \"What are you ?\",            \n",
    "    \"I am a bot.Not human like Jack or Myra ?\"\n",
    "    ]\n",
    ")\n",
    "\n",
    "\n"
   ]
  },
  {
   "cell_type": "code",
   "execution_count": 37,
   "metadata": {
    "collapsed": false
   },
   "outputs": [
    {
     "name": "stdout",
     "output_type": "stream",
     "text": [
      "12\t\t\tHello, How are you ?   setup.py\r\n",
      "chatterbot\t\tlicense.md\t       smartest-yet.ipynb\r\n",
      "chatterbot-corpus\tMANIFEST.in\t       some-working-chatbot.ipynb\r\n",
      "coptit.corpus.json\tmy_corpus\t       test\r\n",
      "CorpaMaker-Copy1.ipynb\tnew.corpus.json        test.corpus.json\r\n",
      "CorpaMaker.ipynb\tnew-stuff.corpus.json  tests\r\n",
      "database.db\t\tnewstuff.corpus.json   tests_django\r\n",
      "database.json\t\treadme.md\t       twitter-database.db\r\n",
      "dev-requirements.txt\trequirements.txt       ubuntu-corpus\r\n",
      "docs\t\t\truntests.py\t       Untitled1.ipynb\r\n",
      "dust.corpus.json\tsettings.py\t       Untitled-Copy1.ipynb\r\n",
      "examples\t\tsettings.pyc\t       Untitled.ipynb\r\n",
      "graphics\t\tsetup.cfg\r\n"
     ]
    }
   ],
   "source": [
    "!ls"
   ]
  },
  {
   "cell_type": "code",
   "execution_count": null,
   "metadata": {
    "collapsed": true
   },
   "outputs": [],
   "source": [
    "# %load newstuff.corpus.json\n",
    "{\n",
    "    \"newstuff\": [\n",
    "        [\n",
    "            \"Well, Mr. Dudah, How are you ?\"            \n",
    "            \"Hey Dude, I am not Mr. Dudah\"\n",
    "        ],"
   ]
  },
  {
   "cell_type": "code",
   "execution_count": 40,
   "metadata": {
    "collapsed": true
   },
   "outputs": [],
   "source": [
    "# %load new-stuff.corpus.json\n"
   ]
  },
  {
   "cell_type": "code",
   "execution_count": null,
   "metadata": {
    "collapsed": true
   },
   "outputs": [],
   "source": []
  },
  {
   "cell_type": "code",
   "execution_count": 1,
   "metadata": {
    "collapsed": false
   },
   "outputs": [
    {
     "name": "stderr",
     "output_type": "stream",
     "text": [
      "chatterbot/storage/jsonfile.py:26: UnsuitableForProductionWarning: The JsonFileStorageAdapter is not recommended for production environments.\n",
      "  self.UnsuitableForProductionWarning\n"
     ]
    },
    {
     "ename": "ValueError",
     "evalue": "Extra data: line 1 column 3 - line 1 column 223466 (char 2 - 223465)",
     "output_type": "error",
     "traceback": [
      "\u001b[0;31m---------------------------------------------------------------------------\u001b[0m",
      "\u001b[0;31mValueError\u001b[0m                                Traceback (most recent call last)",
      "\u001b[0;32m<ipython-input-1-95b7f90053d7>\u001b[0m in \u001b[0;36m<module>\u001b[0;34m()\u001b[0m\n\u001b[1;32m     46\u001b[0m \u001b[0;34m\u001b[0m\u001b[0m\n\u001b[1;32m     47\u001b[0m \u001b[0;31m# Get a response to an input statement\u001b[0m\u001b[0;34m\u001b[0m\u001b[0;34m\u001b[0m\u001b[0m\n\u001b[0;32m---> 48\u001b[0;31m \u001b[0mbot\u001b[0m\u001b[0;34m.\u001b[0m\u001b[0mget_response\u001b[0m\u001b[0;34m(\u001b[0m\u001b[0;34m\"what is a good movie?\"\u001b[0m\u001b[0;34m)\u001b[0m\u001b[0;34m\u001b[0m\u001b[0m\n\u001b[0m",
      "\u001b[0;32m/home/jack/Desktop/ChatterBot/chatterbot/chatterbot.pyc\u001b[0m in \u001b[0;36mget_response\u001b[0;34m(self, input_item, session_id)\u001b[0m\n\u001b[1;32m    107\u001b[0m             \u001b[0msession_id\u001b[0m \u001b[0;34m=\u001b[0m \u001b[0mstr\u001b[0m\u001b[0;34m(\u001b[0m\u001b[0mself\u001b[0m\u001b[0;34m.\u001b[0m\u001b[0mdefault_session\u001b[0m\u001b[0;34m.\u001b[0m\u001b[0muuid\u001b[0m\u001b[0;34m)\u001b[0m\u001b[0;34m\u001b[0m\u001b[0m\n\u001b[1;32m    108\u001b[0m \u001b[0;34m\u001b[0m\u001b[0m\n\u001b[0;32m--> 109\u001b[0;31m         \u001b[0minput_statement\u001b[0m \u001b[0;34m=\u001b[0m \u001b[0mself\u001b[0m\u001b[0;34m.\u001b[0m\u001b[0minput\u001b[0m\u001b[0;34m.\u001b[0m\u001b[0mprocess_input_statement\u001b[0m\u001b[0;34m(\u001b[0m\u001b[0minput_item\u001b[0m\u001b[0;34m)\u001b[0m\u001b[0;34m\u001b[0m\u001b[0m\n\u001b[0m\u001b[1;32m    110\u001b[0m \u001b[0;34m\u001b[0m\u001b[0m\n\u001b[1;32m    111\u001b[0m         \u001b[0;31m# Preprocess the input statement\u001b[0m\u001b[0;34m\u001b[0m\u001b[0;34m\u001b[0m\u001b[0m\n",
      "\u001b[0;32m/home/jack/Desktop/ChatterBot/chatterbot/input/input_adapter.pyc\u001b[0m in \u001b[0;36mprocess_input_statement\u001b[0;34m(self, *args, **kwargs)\u001b[0m\n\u001b[1;32m     22\u001b[0m         \u001b[0mself\u001b[0m\u001b[0;34m.\u001b[0m\u001b[0mlogger\u001b[0m\u001b[0;34m.\u001b[0m\u001b[0minfo\u001b[0m\u001b[0;34m(\u001b[0m\u001b[0;34m'Recieved input statement: {}'\u001b[0m\u001b[0;34m.\u001b[0m\u001b[0mformat\u001b[0m\u001b[0;34m(\u001b[0m\u001b[0minput_statement\u001b[0m\u001b[0;34m.\u001b[0m\u001b[0mtext\u001b[0m\u001b[0;34m)\u001b[0m\u001b[0;34m)\u001b[0m\u001b[0;34m\u001b[0m\u001b[0m\n\u001b[1;32m     23\u001b[0m \u001b[0;34m\u001b[0m\u001b[0m\n\u001b[0;32m---> 24\u001b[0;31m         \u001b[0mexisting_statement\u001b[0m \u001b[0;34m=\u001b[0m \u001b[0mself\u001b[0m\u001b[0;34m.\u001b[0m\u001b[0mchatbot\u001b[0m\u001b[0;34m.\u001b[0m\u001b[0mstorage\u001b[0m\u001b[0;34m.\u001b[0m\u001b[0mfind\u001b[0m\u001b[0;34m(\u001b[0m\u001b[0minput_statement\u001b[0m\u001b[0;34m.\u001b[0m\u001b[0mtext\u001b[0m\u001b[0;34m)\u001b[0m\u001b[0;34m\u001b[0m\u001b[0m\n\u001b[0m\u001b[1;32m     25\u001b[0m \u001b[0;34m\u001b[0m\u001b[0m\n\u001b[1;32m     26\u001b[0m         \u001b[0;32mif\u001b[0m \u001b[0mexisting_statement\u001b[0m\u001b[0;34m:\u001b[0m\u001b[0;34m\u001b[0m\u001b[0m\n",
      "\u001b[0;32m/home/jack/Desktop/ChatterBot/chatterbot/storage/jsonfile.pyc\u001b[0m in \u001b[0;36mfind\u001b[0;34m(self, statement_text)\u001b[0m\n\u001b[1;32m     40\u001b[0m \u001b[0;34m\u001b[0m\u001b[0m\n\u001b[1;32m     41\u001b[0m     \u001b[0;32mdef\u001b[0m \u001b[0mfind\u001b[0m\u001b[0;34m(\u001b[0m\u001b[0mself\u001b[0m\u001b[0;34m,\u001b[0m \u001b[0mstatement_text\u001b[0m\u001b[0;34m)\u001b[0m\u001b[0;34m:\u001b[0m\u001b[0;34m\u001b[0m\u001b[0m\n\u001b[0;32m---> 42\u001b[0;31m         \u001b[0mvalues\u001b[0m \u001b[0;34m=\u001b[0m \u001b[0mself\u001b[0m\u001b[0;34m.\u001b[0m\u001b[0mdatabase\u001b[0m\u001b[0;34m.\u001b[0m\u001b[0mdata\u001b[0m\u001b[0;34m(\u001b[0m\u001b[0mkey\u001b[0m\u001b[0;34m=\u001b[0m\u001b[0mstatement_text\u001b[0m\u001b[0;34m)\u001b[0m\u001b[0;34m\u001b[0m\u001b[0m\n\u001b[0m\u001b[1;32m     43\u001b[0m \u001b[0;34m\u001b[0m\u001b[0m\n\u001b[1;32m     44\u001b[0m         \u001b[0;32mif\u001b[0m \u001b[0;32mnot\u001b[0m \u001b[0mvalues\u001b[0m\u001b[0;34m:\u001b[0m\u001b[0;34m\u001b[0m\u001b[0m\n",
      "\u001b[0;32m/home/jack/anaconda2/lib/python2.7/site-packages/jsondb/db.pyc\u001b[0m in \u001b[0;36mdata\u001b[0;34m(self, **kwargs)\u001b[0m\n\u001b[1;32m     96\u001b[0m         \u001b[0;31m# If only a key was provided return the corresponding value\u001b[0m\u001b[0;34m\u001b[0m\u001b[0;34m\u001b[0m\u001b[0m\n\u001b[1;32m     97\u001b[0m         \u001b[0;32mif\u001b[0m \u001b[0mkey\u001b[0m \u001b[0;32mis\u001b[0m \u001b[0;32mnot\u001b[0m \u001b[0mNone\u001b[0m \u001b[0;32mand\u001b[0m \u001b[0mvalue\u001b[0m \u001b[0;32mis\u001b[0m \u001b[0mNone\u001b[0m\u001b[0;34m:\u001b[0m\u001b[0;34m\u001b[0m\u001b[0m\n\u001b[0;32m---> 98\u001b[0;31m             \u001b[0;32mreturn\u001b[0m \u001b[0mself\u001b[0m\u001b[0;34m.\u001b[0m\u001b[0m_get_content\u001b[0m\u001b[0;34m(\u001b[0m\u001b[0mkey\u001b[0m\u001b[0;34m)\u001b[0m\u001b[0;34m\u001b[0m\u001b[0m\n\u001b[0m\u001b[1;32m     99\u001b[0m \u001b[0;34m\u001b[0m\u001b[0m\n\u001b[1;32m    100\u001b[0m         \u001b[0;31m# if a key and a value are passed in\u001b[0m\u001b[0;34m\u001b[0m\u001b[0;34m\u001b[0m\u001b[0m\n",
      "\u001b[0;32m/home/jack/anaconda2/lib/python2.7/site-packages/jsondb/db.pyc\u001b[0m in \u001b[0;36m_get_content\u001b[0;34m(self, key)\u001b[0m\n\u001b[1;32m     50\u001b[0m \u001b[0;34m\u001b[0m\u001b[0m\n\u001b[1;32m     51\u001b[0m     \u001b[0;32mdef\u001b[0m \u001b[0m_get_content\u001b[0m\u001b[0;34m(\u001b[0m\u001b[0mself\u001b[0m\u001b[0;34m,\u001b[0m \u001b[0mkey\u001b[0m\u001b[0;34m=\u001b[0m\u001b[0mNone\u001b[0m\u001b[0;34m)\u001b[0m\u001b[0;34m:\u001b[0m\u001b[0;34m\u001b[0m\u001b[0m\n\u001b[0;32m---> 52\u001b[0;31m         \u001b[0mobj\u001b[0m \u001b[0;34m=\u001b[0m \u001b[0mself\u001b[0m\u001b[0;34m.\u001b[0m\u001b[0mread_data\u001b[0m\u001b[0;34m(\u001b[0m\u001b[0mself\u001b[0m\u001b[0;34m.\u001b[0m\u001b[0mpath\u001b[0m\u001b[0;34m)\u001b[0m\u001b[0;34m\u001b[0m\u001b[0m\n\u001b[0m\u001b[1;32m     53\u001b[0m \u001b[0;34m\u001b[0m\u001b[0m\n\u001b[1;32m     54\u001b[0m         \u001b[0;32mif\u001b[0m \u001b[0mkey\u001b[0m \u001b[0;32mor\u001b[0m \u001b[0mkey\u001b[0m \u001b[0;34m==\u001b[0m \u001b[0;34m\"\"\u001b[0m\u001b[0;34m:\u001b[0m\u001b[0;34m\u001b[0m\u001b[0m\n",
      "\u001b[0;32m/home/jack/anaconda2/lib/python2.7/site-packages/jsondb/file_writer.pyc\u001b[0m in \u001b[0;36mread_data\u001b[0;34m(file_path)\u001b[0m\n\u001b[1;32m     13\u001b[0m     \u001b[0mcontent\u001b[0m \u001b[0;34m=\u001b[0m \u001b[0mdb\u001b[0m\u001b[0;34m.\u001b[0m\u001b[0mread\u001b[0m\u001b[0;34m(\u001b[0m\u001b[0;34m)\u001b[0m\u001b[0;34m\u001b[0m\u001b[0m\n\u001b[1;32m     14\u001b[0m \u001b[0;34m\u001b[0m\u001b[0m\n\u001b[0;32m---> 15\u001b[0;31m     \u001b[0mobj\u001b[0m \u001b[0;34m=\u001b[0m \u001b[0mdecode\u001b[0m\u001b[0;34m(\u001b[0m\u001b[0mcontent\u001b[0m\u001b[0;34m)\u001b[0m\u001b[0;34m\u001b[0m\u001b[0m\n\u001b[0m\u001b[1;32m     16\u001b[0m \u001b[0;34m\u001b[0m\u001b[0m\n\u001b[1;32m     17\u001b[0m     \u001b[0mdb\u001b[0m\u001b[0;34m.\u001b[0m\u001b[0mclose\u001b[0m\u001b[0;34m(\u001b[0m\u001b[0;34m)\u001b[0m\u001b[0;34m\u001b[0m\u001b[0m\n",
      "\u001b[0;32m/home/jack/anaconda2/lib/python2.7/site-packages/jsondb/compat.pyc\u001b[0m in \u001b[0;36mdecode\u001b[0;34m(value)\u001b[0m\n\u001b[1;32m     30\u001b[0m     \u001b[0;32mfrom\u001b[0m \u001b[0mbson\u001b[0m \u001b[0;32mimport\u001b[0m \u001b[0mjson_util\u001b[0m\u001b[0;34m\u001b[0m\u001b[0m\n\u001b[1;32m     31\u001b[0m \u001b[0;34m\u001b[0m\u001b[0m\n\u001b[0;32m---> 32\u001b[0;31m     \u001b[0;32mreturn\u001b[0m \u001b[0mjson_decode\u001b[0m\u001b[0;34m(\u001b[0m\u001b[0mvalue\u001b[0m\u001b[0;34m,\u001b[0m \u001b[0mencoding\u001b[0m\u001b[0;34m=\u001b[0m\u001b[0;34m'utf-8'\u001b[0m\u001b[0;34m,\u001b[0m \u001b[0mobject_hook\u001b[0m\u001b[0;34m=\u001b[0m\u001b[0mjson_util\u001b[0m\u001b[0;34m.\u001b[0m\u001b[0mobject_hook\u001b[0m\u001b[0;34m)\u001b[0m\u001b[0;34m\u001b[0m\u001b[0m\n\u001b[0m\u001b[1;32m     33\u001b[0m \u001b[0;34m\u001b[0m\u001b[0m\n\u001b[1;32m     34\u001b[0m \u001b[0;34m\u001b[0m\u001b[0m\n",
      "\u001b[0;32m/home/jack/anaconda2/lib/python2.7/json/__init__.pyc\u001b[0m in \u001b[0;36mloads\u001b[0;34m(s, encoding, cls, object_hook, parse_float, parse_int, parse_constant, object_pairs_hook, **kw)\u001b[0m\n\u001b[1;32m    350\u001b[0m     \u001b[0;32mif\u001b[0m \u001b[0mparse_constant\u001b[0m \u001b[0;32mis\u001b[0m \u001b[0;32mnot\u001b[0m \u001b[0mNone\u001b[0m\u001b[0;34m:\u001b[0m\u001b[0;34m\u001b[0m\u001b[0m\n\u001b[1;32m    351\u001b[0m         \u001b[0mkw\u001b[0m\u001b[0;34m[\u001b[0m\u001b[0;34m'parse_constant'\u001b[0m\u001b[0;34m]\u001b[0m \u001b[0;34m=\u001b[0m \u001b[0mparse_constant\u001b[0m\u001b[0;34m\u001b[0m\u001b[0m\n\u001b[0;32m--> 352\u001b[0;31m     \u001b[0;32mreturn\u001b[0m \u001b[0mcls\u001b[0m\u001b[0;34m(\u001b[0m\u001b[0mencoding\u001b[0m\u001b[0;34m=\u001b[0m\u001b[0mencoding\u001b[0m\u001b[0;34m,\u001b[0m \u001b[0;34m**\u001b[0m\u001b[0mkw\u001b[0m\u001b[0;34m)\u001b[0m\u001b[0;34m.\u001b[0m\u001b[0mdecode\u001b[0m\u001b[0;34m(\u001b[0m\u001b[0ms\u001b[0m\u001b[0;34m)\u001b[0m\u001b[0;34m\u001b[0m\u001b[0m\n\u001b[0m",
      "\u001b[0;32m/home/jack/anaconda2/lib/python2.7/json/decoder.pyc\u001b[0m in \u001b[0;36mdecode\u001b[0;34m(self, s, _w)\u001b[0m\n\u001b[1;32m    365\u001b[0m         \u001b[0mend\u001b[0m \u001b[0;34m=\u001b[0m \u001b[0m_w\u001b[0m\u001b[0;34m(\u001b[0m\u001b[0ms\u001b[0m\u001b[0;34m,\u001b[0m \u001b[0mend\u001b[0m\u001b[0;34m)\u001b[0m\u001b[0;34m.\u001b[0m\u001b[0mend\u001b[0m\u001b[0;34m(\u001b[0m\u001b[0;34m)\u001b[0m\u001b[0;34m\u001b[0m\u001b[0m\n\u001b[1;32m    366\u001b[0m         \u001b[0;32mif\u001b[0m \u001b[0mend\u001b[0m \u001b[0;34m!=\u001b[0m \u001b[0mlen\u001b[0m\u001b[0;34m(\u001b[0m\u001b[0ms\u001b[0m\u001b[0;34m)\u001b[0m\u001b[0;34m:\u001b[0m\u001b[0;34m\u001b[0m\u001b[0m\n\u001b[0;32m--> 367\u001b[0;31m             \u001b[0;32mraise\u001b[0m \u001b[0mValueError\u001b[0m\u001b[0;34m(\u001b[0m\u001b[0merrmsg\u001b[0m\u001b[0;34m(\u001b[0m\u001b[0;34m\"Extra data\"\u001b[0m\u001b[0;34m,\u001b[0m \u001b[0ms\u001b[0m\u001b[0;34m,\u001b[0m \u001b[0mend\u001b[0m\u001b[0;34m,\u001b[0m \u001b[0mlen\u001b[0m\u001b[0;34m(\u001b[0m\u001b[0ms\u001b[0m\u001b[0;34m)\u001b[0m\u001b[0;34m)\u001b[0m\u001b[0;34m)\u001b[0m\u001b[0;34m\u001b[0m\u001b[0m\n\u001b[0m\u001b[1;32m    368\u001b[0m         \u001b[0;32mreturn\u001b[0m \u001b[0mobj\u001b[0m\u001b[0;34m\u001b[0m\u001b[0m\n\u001b[1;32m    369\u001b[0m \u001b[0;34m\u001b[0m\u001b[0m\n",
      "\u001b[0;31mValueError\u001b[0m: Extra data: line 1 column 3 - line 1 column 223466 (char 2 - 223465)"
     ]
    }
   ],
   "source": [
    "from chatterbot import ChatBot\n",
    "\n",
    "bot = ChatBot(\n",
    "    'Gort',\n",
    "    trainer='chatterbot.trainers.ChatterBotCorpusTrainer'\n",
    ")\n",
    "\n",
    "# Train based on the english corpus\n",
    "#bot.train(\"chatterbot.corpus.english\")\n",
    "# Train based on english greetings corpus\n",
    "#bot.train(\"chatterbot.corpus.english.greetings\")\n",
    "\n",
    "# Train based on the english conversations corpus\n",
    "#bot.train(\"chatterbot.corpus.english.conversations\")\n",
    "# Train based on english greetings corpus\n",
    "#bot.train(\"chatterbot.corpus.english.greetings\")\n",
    "\n",
    "# Train based on the english conversations corpus\n",
    "#bot.train(\"chatterbot.corpus.english.conversations\")\n",
    "#bot.train(\"chatterbot.corpus.english.ai\")\n",
    "#bot.train(\"chatterbot.corpus.english.botprofile\")\n",
    "#bot.train(\"chatterbot.corpus.english.computers\")\n",
    "##bot.train(\"chatterbot.corpus.english.conversations\")\n",
    "#bot.train(\"chatterbot.corpus.english.drugs\")\n",
    "#bot.train(\"chatterbot.corpus.english.emotion\")\n",
    "#bot.train(\"chatterbot.corpus.english.food\")\n",
    "#bot.train(\"chatterbot.corpus.english.gossip\")\n",
    "#bot.train(\"chatterbot.corpus.english.greetings\")\n",
    "#bot.train(\"chatterbot.corpus.english.history\")\n",
    "#bot.train(\"chatterbot.corpus.english.humor\")\n",
    "#bot.train(\"chatterbot.corpus.english.literature\")\n",
    "#bot.train(\"chatterbot.corpus.english.math_words\")\n",
    "#bot.train(\"chatterbot.corpus.english.money.corpus\")\n",
    "#bot.train(\"chatterbot.corpus.english.movies.corpus\")\n",
    "#bot.train(\"chatterbot.corpus.english.politics.corpus\")\n",
    "#bot.train(\"chatterbot.corpus.english.psychology\")\n",
    "#bot.train(\"chatterbot.corpus.english.science.corpus\")\n",
    "#bot.train(\"chatterbot.corpus.english.sports.corpus\")\n",
    "#bot.train(\"chatterbot.corpus.english.swear_words\")\n",
    "#bot.train(\"chatterbot.corpus.english.trivia.corpus\")\n",
    "\n",
    "\n",
    "\n",
    "\n",
    "\n",
    "\n",
    "# Get a response to an input statement\n",
    "bot.get_response(\"what is a good movie?\")"
   ]
  }
 ],
 "metadata": {
  "kernelspec": {
   "display_name": "Python 2",
   "language": "python",
   "name": "python2"
  },
  "language_info": {
   "codemirror_mode": {
    "name": "ipython",
    "version": 2
   },
   "file_extension": ".py",
   "mimetype": "text/x-python",
   "name": "python",
   "nbconvert_exporter": "python",
   "pygments_lexer": "ipython2",
   "version": "2.7.13"
  }
 },
 "nbformat": 4,
 "nbformat_minor": 2
}
